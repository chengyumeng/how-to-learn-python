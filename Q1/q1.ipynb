{
 "cells": [
  {
   "cell_type": "markdown",
   "id": "9ceae0a7-f7f0-4bb2-9c5c-6c3e4c996bf4",
   "metadata": {},
   "source": [
    "# 小邮差的编程第一课"
   ]
  },
  {
   "cell_type": "code",
   "execution_count": 1,
   "id": "81d064c8-63cb-46f4-a79b-20663307febd",
   "metadata": {},
   "outputs": [
    {
     "name": "stdout",
     "output_type": "stream",
     "text": [
      "1\n"
     ]
    }
   ],
   "source": [
    "x = 1\n",
    "print(x)"
   ]
  },
  {
   "cell_type": "code",
   "execution_count": 2,
   "id": "9e385a57-4d26-4456-a2e8-0dbf09454818",
   "metadata": {},
   "outputs": [],
   "source": [
    "x = 2"
   ]
  },
  {
   "cell_type": "code",
   "execution_count": 3,
   "id": "c06945e9-36a2-435a-af95-4c52094be537",
   "metadata": {},
   "outputs": [
    {
     "name": "stdout",
     "output_type": "stream",
     "text": [
      "2\n"
     ]
    }
   ],
   "source": [
    "print(x)"
   ]
  },
  {
   "cell_type": "code",
   "execution_count": 4,
   "id": "de8b28fc-1ffe-4e11-8387-f183ee01a1e3",
   "metadata": {},
   "outputs": [
    {
     "name": "stdout",
     "output_type": "stream",
     "text": [
      "Looking in indexes: https://pypi.tuna.tsinghua.edu.cn/simple\n",
      "Requirement already satisfied: requests in /Users/zhangpenghao/anaconda3/envs/jupyterlab/lib/python3.11/site-packages (2.31.0)\n",
      "Requirement already satisfied: charset-normalizer<4,>=2 in /Users/zhangpenghao/anaconda3/envs/jupyterlab/lib/python3.11/site-packages (from requests) (2.0.4)\n",
      "Requirement already satisfied: idna<4,>=2.5 in /Users/zhangpenghao/anaconda3/envs/jupyterlab/lib/python3.11/site-packages (from requests) (3.4)\n",
      "Requirement already satisfied: urllib3<3,>=1.21.1 in /Users/zhangpenghao/anaconda3/envs/jupyterlab/lib/python3.11/site-packages (from requests) (1.26.18)\n",
      "Requirement already satisfied: certifi>=2017.4.17 in /Users/zhangpenghao/anaconda3/envs/jupyterlab/lib/python3.11/site-packages (from requests) (2023.11.17)\n"
     ]
    }
   ],
   "source": [
    "!pip3 install requests"
   ]
  },
  {
   "cell_type": "markdown",
   "id": "51ab8ee2-e3ed-4c56-9ca8-031279ce912e",
   "metadata": {},
   "source": [
    "# 安装 Python \n",
    "https://www.python.org/"
   ]
  },
  {
   "cell_type": "markdown",
   "id": "f1c498c8-cc0f-4751-b772-49234fcf11bc",
   "metadata": {},
   "source": [
    "# 配置tuna 源\n",
    "https://mirrors.tuna.tsinghua.edu.cn/help/pypi/"
   ]
  },
  {
   "cell_type": "markdown",
   "id": "146f5cb8-06af-4c23-b8da-547fd317eae6",
   "metadata": {},
   "source": [
    "# 安装 anaconda\n",
    "https://mirrors.tuna.tsinghua.edu.cn/anaconda/archive/"
   ]
  },
  {
   "cell_type": "markdown",
   "id": "1d49579e-f692-4dbe-b4f1-e59c84f456ec",
   "metadata": {},
   "source": [
    "# 构建第一个环境\n",
    "# 安装 JupyterLab\n",
    "# JupyterLab 写第一份代码"
   ]
  },
  {
   "cell_type": "code",
   "execution_count": null,
   "id": "9a1d5967-04bd-4152-b8fd-738b2b4cf523",
   "metadata": {},
   "outputs": [],
   "source": []
  }
 ],
 "metadata": {
  "kernelspec": {
   "display_name": "Python 3 (ipykernel)",
   "language": "python",
   "name": "python3"
  },
  "language_info": {
   "codemirror_mode": {
    "name": "ipython",
    "version": 3
   },
   "file_extension": ".py",
   "mimetype": "text/x-python",
   "name": "python",
   "nbconvert_exporter": "python",
   "pygments_lexer": "ipython3",
   "version": "3.11.5"
  }
 },
 "nbformat": 4,
 "nbformat_minor": 5
}
